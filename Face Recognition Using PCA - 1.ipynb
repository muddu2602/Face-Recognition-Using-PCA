{
 "cells": [
  {
   "cell_type": "code",
   "execution_count": 2,
   "metadata": {},
   "outputs": [],
   "source": [
    "import numpy as np\n",
    "import pandas as pd\n",
    "import matplotlib.pyplot as plt\n",
    "from numpy.linalg import inv\n",
    "from numpy.linalg import det\n",
    "from numpy.linalg import eig\n",
    "from PIL import Image\n",
    "from numpy import asarray \n",
    "import sys\n",
    "import math"
   ]
  },
  {
   "cell_type": "markdown",
   "metadata": {},
   "source": [
    "# Training the DataSet"
   ]
  },
  {
   "cell_type": "code",
   "execution_count": 3,
   "metadata": {},
   "outputs": [],
   "source": [
    "path1 = 'data/ORL/s'\n",
    "path2 = '/'\n",
    "path3 = '.pgm'"
   ]
  },
  {
   "cell_type": "code",
   "execution_count": 4,
   "metadata": {},
   "outputs": [],
   "source": [
    "data = np.ndarray(shape=(240 , 10304), dtype=np.int64)\n",
    "data = pd.DataFrame(data)"
   ]
  },
  {
   "cell_type": "markdown",
   "metadata": {},
   "source": [
    "### Creating the Training DB"
   ]
  },
  {
   "cell_type": "code",
   "execution_count": 5,
   "metadata": {},
   "outputs": [],
   "source": [
    "#taking 60% as Data Training set and remaining 40% as testing data set\n",
    "count = 0\n",
    "for i in range(40):\n",
    "    for j in range(6):\n",
    "        path = path1 + str(i+1) + path2 + str(j+1) + path3\n",
    "        image = asarray(Image.open(path))\n",
    "        image  = np.reshape(image , (1 , image.shape[0]*image.shape[1] ))\n",
    "        data.iloc[count , :] = image\n",
    "        count = count + 1"
   ]
  },
  {
   "cell_type": "markdown",
   "metadata": {},
   "source": [
    "### Column Wise Mean\n"
   ]
  },
  {
   "cell_type": "code",
   "execution_count": 6,
   "metadata": {},
   "outputs": [],
   "source": [
    "mean_data = np.ndarray(shape = (1 , 10304), dtype = np.int64)\n",
    "for i in range(10304):\n",
    "    mean_data[0][i] = data.iloc[: , i].mean()"
   ]
  },
  {
   "cell_type": "code",
   "execution_count": 7,
   "metadata": {},
   "outputs": [],
   "source": [
    "data = data.to_numpy()"
   ]
  },
  {
   "cell_type": "markdown",
   "metadata": {},
   "source": [
    "### Mean allign Data"
   ]
  },
  {
   "cell_type": "code",
   "execution_count": 8,
   "metadata": {},
   "outputs": [],
   "source": [
    "normal_data = np.ndarray(shape = (240 , 10304) , dtype = np.int64)"
   ]
  },
  {
   "cell_type": "code",
   "execution_count": 9,
   "metadata": {},
   "outputs": [],
   "source": [
    "for i in range(240):\n",
    "    normal_data[i][:] = np.subtract(data[i][:] , mean_data)"
   ]
  },
  {
   "cell_type": "code",
   "execution_count": 14,
   "metadata": {},
   "outputs": [
    {
     "data": {
      "text/plain": [
       "array([[ 62261.92083333,  29438.125     ,  41600.79166667, ...,\n",
       "         -8545.66666667,   8753.51666667,   2161.40416667],\n",
       "       [ 29438.125     , 111134.70833333,  46255.00416667, ...,\n",
       "         14080.6875    ,  14266.07916667,  14041.725     ],\n",
       "       [ 41600.79166667,  46255.00416667,  83354.45      , ...,\n",
       "          7037.17083333,  11743.475     ,  12546.54583333],\n",
       "       ...,\n",
       "       [ -8545.66666667,  14080.6875    ,   7037.17083333, ...,\n",
       "         59092.53333333,  13765.76666667,  19906.4       ],\n",
       "       [  8753.51666667,  14266.07916667,  11743.475     , ...,\n",
       "         13765.76666667,  45608.65416667,  16562.17916667],\n",
       "       [  2161.40416667,  14041.725     ,  12546.54583333, ...,\n",
       "         19906.4       ,  16562.17916667,  52526.45833333]])"
      ]
     },
     "execution_count": 14,
     "metadata": {},
     "output_type": "execute_result"
    }
   ],
   "source": [
    "cov_matrix = np.matmul(normal_data , np.transpose(normal_data)) / (240)\n",
    "cov_matrix"
   ]
  },
  {
   "cell_type": "markdown",
   "metadata": {},
   "source": [
    "### Computing the Eigen Values and Eigen Vectors"
   ]
  },
  {
   "cell_type": "code",
   "execution_count": 15,
   "metadata": {},
   "outputs": [],
   "source": [
    "eig_values , eig_vectors = np.linalg.eig(cov_matrix)"
   ]
  },
  {
   "cell_type": "code",
   "execution_count": 16,
   "metadata": {},
   "outputs": [],
   "source": [
    "eig_vectors = np.transpose(eig_vectors)"
   ]
  },
  {
   "cell_type": "markdown",
   "metadata": {},
   "source": [
    "### Sort the Eigen Vectors based upon the eigen Values"
   ]
  },
  {
   "cell_type": "code",
   "execution_count": 17,
   "metadata": {},
   "outputs": [],
   "source": [
    "eig_vals_sorted = np.sort(eig_values)[::-1]\n",
    "eig_vecs_sorted = eig_vectors[:, eig_values.argsort()]"
   ]
  },
  {
   "cell_type": "markdown",
   "metadata": {},
   "source": [
    "### Creating the Testing Face DB"
   ]
  },
  {
   "cell_type": "code",
   "execution_count": 18,
   "metadata": {},
   "outputs": [],
   "source": [
    "testing_data = np.ndarray(shape = (160 , 10304) , dtype = np.int64)\n",
    "testing_data = pd.DataFrame(testing_data)\n",
    "#taking 60% as Data Training set and remaining 40% as testing data set\n",
    "count = 0\n",
    "for i in range(40):\n",
    "    for j in range(4):\n",
    "        path = path1 + str(i+1) + path2 + str(j+7) + path3\n",
    "        image = asarray(Image.open(path))\n",
    "        image  = np.reshape(image , (1,10304))\n",
    "        testing_data.iloc[count , :] = image\n",
    "        count = count + 1"
   ]
  },
  {
   "cell_type": "markdown",
   "metadata": {},
   "source": [
    "### Euclidien Distance Classifier"
   ]
  },
  {
   "cell_type": "code",
   "execution_count": 19,
   "metadata": {},
   "outputs": [],
   "source": [
    "def euclidien_distance(a , b):\n",
    "    dist = 0\n",
    "    for i in range(k):\n",
    "        dist += (a[0][i] - b[i])**2\n",
    "    return dist**0.5  "
   ]
  },
  {
   "cell_type": "markdown",
   "metadata": {},
   "source": [
    "### Create a Feature Vector ( For Different K Values )"
   ]
  },
  {
   "cell_type": "code",
   "execution_count": 33,
   "metadata": {
    "code_folding": []
   },
   "outputs": [],
   "source": [
    "accuracy = []\n",
    "k_values = []\n",
    "for k in range(2 , 240 , 2):\n",
    "    k_values.append(k)\n",
    "    #==========Feature Vector Representation==========#\n",
    "    \n",
    "    feature_vector = np.ndarray(shape = (240 , k))\n",
    "    feature_vector = eig_vecs_sorted[: , 0:k]\n",
    "    \n",
    "    #==========Eigen Faces Computation================#\n",
    "    \n",
    "    eigen_faces = np.ndarray(shape = (k , 10304) , dtype = np.int64)\n",
    "    eigen_faces = np.dot(np.transpose(feature_vector) , normal_data)\n",
    "    \n",
    "    #========== Signature Face Computation============#\n",
    "    \n",
    "    signature_faces = np.ndarray(shape = (240 , k) , dtype = np.int64)\n",
    "    for i in range(240):\n",
    "        signature_faces[i] = np.dot(normal_data[i]  , np.transpose(eigen_faces))\n",
    "    correct = 0\n",
    "    #=========== Testing All Faces (For accuracy Calculation)=========#\n",
    "    for j in range(160):\n",
    "        # ======= Mean Align the test data=========#\n",
    "        \n",
    "        test = np.array(testing_data.iloc[j,:])\n",
    "        mean_test = test - mean_data\n",
    "        \n",
    "        #======== Project the Test image on the Eigen Faces======#\n",
    "        \n",
    "        projected_face = np.ndarray(shape = (1,k) , dtype = np.int64)\n",
    "        projected_face = np.dot(mean_test , np.transpose(eigen_faces))\n",
    "        \n",
    "        # Assign initially the maximum value of the system as the distance and later find the minimum distance\n",
    "        minimum = sys.maxsize\n",
    "        #Assume match is 0 face\n",
    "        match = 0\n",
    "        #Calculate the Euclidien Distance of the current test image( projected ) with all the eigen faces\n",
    "        for l in range(240):\n",
    "            dist = euclidien_distance(projected_face , signature_faces[l])\n",
    "            #if the Least distance is coming from suppose ith vector , the corresponing ith image in the original train db is the related face \n",
    "            if(dist < minimum):\n",
    "                match = l\n",
    "                minimum = dist\n",
    "            if( ( math.floor(j/6)) == ( math.floor(match/6) ) ):\n",
    "                correct = correct + 1   \n",
    "    accuracy.append(correct)"
   ]
  },
  {
   "cell_type": "code",
   "execution_count": 34,
   "metadata": {},
   "outputs": [
    {
     "data": {
      "image/png": "[encoded data removed]",
      "text/plain": [
       "<Figure size 432x288 with 1 Axes>"
      ]
     },
     "metadata": {
      "needs_background": "light"
     },
     "output_type": "display_data"
    }
   ],
   "source": [
    "fig, ax = plt.subplots()\n",
    "ax.plot(k_values, accuracy)\n",
    "ax.set(xlabel='k_values', ylabel='Accuracy', title='Accuracy In our Face Recognition Algorithm')\n",
    "ax.grid()\n",
    "plt.show()"
   ]
  },
  {
   "cell_type": "code",
   "execution_count": null,
   "metadata": {},
   "outputs": [],
   "source": []
  }
 ],
 "metadata": {
  "kernelspec": {
   "display_name": "Python 3",
   "language": "python",
   "name": "python3"
  },
  "language_info": {
   "codemirror_mode": {
    "name": "ipython",
    "version": 3
   },
   "file_extension": ".py",
   "mimetype": "text/x-python",
   "name": "python",
   "nbconvert_exporter": "python",
   "pygments_lexer": "ipython3",
   "version": "3.7.9"
  }
 },
 "nbformat": 4,
 "nbformat_minor": 4
}
